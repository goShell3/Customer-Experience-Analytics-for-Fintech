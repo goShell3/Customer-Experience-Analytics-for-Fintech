{
 "cells": [
  {
   "cell_type": "code",
   "execution_count": null,
   "id": "b3e3e3fb",
   "metadata": {},
   "outputs": [],
   "source": []
  },
  {
   "cell_type": "code",
   "execution_count": 4,
   "id": "7af0803a",
   "metadata": {},
   "outputs": [],
   "source": [
    "import os\n",
    "import pandas as pd\n",
    "from google_play_scraper import app, Sort, reviews\n",
    "from typing import Dict, Optional\n",
    "\n",
    "BANK_APPS = {\n",
    "    'CBE': 'com.combanketh.mobilebanking',\n",
    "    'BOA': 'com.boa.boaMobileBanking',\n",
    "    'Dashen': 'com.dashen.dashensuperapp'  # or use 'com.cr2.amolelight' for the Dashen Mobile version\n",
    "}\n",
    "\n",
    "\n",
    "class ScrapData:\n",
    "    def __init__(self, package_name: str, app_name: str):\n",
    "        self.package_name = package_name\n",
    "        self.app_name = app_name\n",
    "\n",
    "    def scrape_app_metadata(self, output_dir=\"data/metadata\"):\n",
    "        os.makedirs(output_dir, exist_ok=True)\n",
    "        result = app(self.package_name, lang=\"en\", country='us')\n",
    "        df = pd.DataFrame([result])\n",
    "        filename = os.path.join(output_dir, f\"{self.app_name}_metadata.csv\")\n",
    "        df.to_csv(filename, index=False)\n",
    "        print(f\"[INFO] Saved metadata for {self.app_name} to {filename}\")\n",
    "\n",
    "    def scrape_app_reviews(self, target_count: int = 400, score_filter: Optional[int] = None,\n",
    "                           output_dir=\"data/reviews\"):\n",
    "        os.makedirs(output_dir, exist_ok=True)\n",
    "        all_reviews = []\n",
    "        next_token = None\n",
    "\n",
    "        while len(all_reviews) < target_count:\n",
    "            batch, next_token = reviews(\n",
    "                self.package_name,\n",
    "                lang='en',\n",
    "                country='us',\n",
    "                sort=Sort.NEWEST,\n",
    "                count=200,\n",
    "                filter_score_with=score_filter,\n",
    "                continuation_token=next_token\n",
    "            )\n",
    "            if not batch:\n",
    "                break\n",
    "            all_reviews.extend(batch)\n",
    "            if not next_token:\n",
    "                break\n",
    "\n",
    "        df = pd.DataFrame([{\n",
    "            'app': self.app_name,\n",
    "            'review': r['content'],\n",
    "            'rating': r['score'],\n",
    "            'date': r['at'].isoformat()\n",
    "        } for r in all_reviews[:target_count]])\n",
    "\n",
    "        filename = os.path.join(output_dir, f\"{self.app_name}_reviews.csv\")\n",
    "        df.to_csv(filename, index=False)\n",
    "        print(f\"[INFO] Saved {len(df)} reviews for {self.app_name} to {filename}\")\n"
   ]
  },
  {
   "cell_type": "code",
   "execution_count": 5,
   "id": "6d815088",
   "metadata": {},
   "outputs": [],
   "source": [
    "def run_batch_scraping(apps: Dict[str, str], target_count: int = 400):\n",
    "    for app_name, package_id in apps.items():\n",
    "        print(f\"\\n--- Scraping {app_name} ---\")\n",
    "        scraper = ScrapData(package_name=package_id, app_name=app_name)\n",
    "        scraper.scrape_app_metadata()\n",
    "        scraper.scrape_app_reviews(target_count=target_count)\n"
   ]
  },
  {
   "cell_type": "code",
   "execution_count": 6,
   "id": "e06e6ec2",
   "metadata": {},
   "outputs": [
    {
     "name": "stdout",
     "output_type": "stream",
     "text": [
      "\n",
      "--- Scraping CBE ---\n",
      "[INFO] Saved metadata for CBE to data/metadata\\CBE_metadata.csv\n",
      "[INFO] Saved 400 reviews for CBE to data/reviews\\CBE_reviews.csv\n",
      "\n",
      "--- Scraping BOA ---\n",
      "[INFO] Saved metadata for BOA to data/metadata\\BOA_metadata.csv\n",
      "[INFO] Saved 400 reviews for BOA to data/reviews\\BOA_reviews.csv\n",
      "\n",
      "--- Scraping Dashen ---\n",
      "[INFO] Saved metadata for Dashen to data/metadata\\Dashen_metadata.csv\n",
      "[INFO] Saved 400 reviews for Dashen to data/reviews\\Dashen_reviews.csv\n"
     ]
    }
   ],
   "source": [
    "run_batch_scraping(BANK_APPS, target_count=400)\n"
   ]
  },
  {
   "cell_type": "code",
   "execution_count": null,
   "id": "68ea8e7f",
   "metadata": {},
   "outputs": [],
   "source": [
    "import pandas as pd\n",
    "\n",
    "df_cbe = pd.read_csv(\"data/reviews/CBE_reviews.csv\")\n",
    "df_cbe.head()\n"
   ]
  }
 ],
 "metadata": {
  "kernelspec": {
   "display_name": "Python 3 (ipykernel)",
   "language": "python",
   "name": "python3"
  },
  "language_info": {
   "codemirror_mode": {
    "name": "ipython",
    "version": 3
   },
   "file_extension": ".py",
   "mimetype": "text/x-python",
   "name": "python",
   "nbconvert_exporter": "python",
   "pygments_lexer": "ipython3",
   "version": "3.13.1"
  }
 },
 "nbformat": 4,
 "nbformat_minor": 5
}
